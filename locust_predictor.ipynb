{
  "cells": [
    {
      "cell_type": "code",
      "execution_count": 14,
      "metadata": {
        "colab": {
          "base_uri": "https://localhost:8080/"
        },
        "id": "-Xth1deZSZYr",
        "outputId": "17894d08-1209-4183-e862-bdf9a98454b9"
      },
      "outputs": [],
      "source": [
        "import pandas as pd\n",
        "import io\n",
        "\n",
        "\n",
        "dframe=pd.read_csv(\"C:/Users/PC/Desktop/imp.csv\")"
      ]
    },
    {
      "cell_type": "code",
      "execution_count": 15,
      "metadata": {
        "colab": {
          "base_uri": "https://localhost:8080/"
        },
        "id": "ENxclRn8kNjv",
        "outputId": "e77d1c71-61b0-4c09-d6d0-525444a9da4c"
      },
      "outputs": [
        {
          "name": "stdout",
          "output_type": "stream",
          "text": [
            "['Longitude', 'Latitude', 'EcoLastRainEndDay', 'EcoLastRainStartDay']\n",
            "['EcoSoilHumidity', 'Infestation', 'SwarmFlyingFrom', 'EcoVegDensityEst', 'EcoVegetationState', 'SwarmFlyingTo']\n",
            "len of df:10 = len of numeric cols4 + len categorical cols6 \n"
          ]
        }
      ],
      "source": [
        "#we have to classify the numeric cols and the non numeric  cols\n",
        "def get_numeric_cols(df):\n",
        "  return list(df.describe().columns)\n",
        "def get_categorical_cols(df):\n",
        "  return list ( set(df.columns) - set(get_numeric_cols(df)) )\n",
        "numeric_cols=get_numeric_cols(dframe)\n",
        "categorical_cols=get_categorical_cols(dframe)\n",
        "\n",
        "#printing both typs pf cols and chechking if we have all the columns in the data frame\n",
        "print(numeric_cols)\n",
        "print(categorical_cols)\n",
        "print(f'len of df:{len(dframe.columns)} = len of numeric cols{len(numeric_cols)} + len categorical cols{len(categorical_cols)} ')\n"
      ]
    },
    {
      "cell_type": "code",
      "execution_count": 16,
      "metadata": {
        "colab": {
          "base_uri": "https://localhost:8080/"
        },
        "id": "GY_cMN_3O4X3",
        "outputId": "02fc9925-d0bf-420a-d61e-4a3fcdc11f5a"
      },
      "outputs": [
        {
          "data": {
            "text/plain": [
              "Longitude                 4\n",
              "Latitude                  4\n",
              "SwarmFlyingFrom        8518\n",
              "SwarmFlyingTo          8523\n",
              "EcoLastRainEndDay      6321\n",
              "EcoLastRainStartDay    6321\n",
              "EcoVegetationState     5330\n",
              "EcoVegDensityEst       5831\n",
              "Infestation               0\n",
              "EcoSoilHumidity        5831\n",
              "dtype: int64"
            ]
          },
          "execution_count": 16,
          "metadata": {},
          "output_type": "execute_result"
        }
      ],
      "source": [
        "#lets see the na distribution in the data\n",
        "dframe.isna().sum()"
      ]
    },
    {
      "cell_type": "code",
      "execution_count": 17,
      "metadata": {
        "id": "d-jF3kKGLRlC"
      },
      "outputs": [],
      "source": [
        "#filling the na cols using the mean data for the numeric cols\n",
        "def fill_na_numeric(dframe,numeric_cols):\n",
        "  df=dframe[numeric_cols].copy()\n",
        "  for col in df.columns:\n",
        "    df[col]=df[col].fillna(df[col].mean().astype(int))\n",
        "  return df\n",
        "\n",
        "def drop_null_cols(dframe):\n",
        "  #if there remains a column with na values after possible extrapolation methods , we should completely drop that column\n",
        "  return dframe.copy().dropna(axis=1)\n",
        "\n",
        "#assigning the non na cols to a new variable\n",
        "non_na_df=fill_na_numeric(dframe,numeric_cols)\n",
        "#droping the complete na cols from the data frame\n",
        "non_na_df=drop_null_cols(non_na_df)\n",
        "\n",
        "#normalizing  the values to have the same data structure\n",
        "def normalize(df):\n",
        "  df_copy=df.copy()   #copying the dataframe to a new one so we wont lose the previous data\n",
        "  df_copy= (df_copy.mean() - df_copy ) / df_copy.std()   #using the standard division to normalize the values\n",
        "  return df_copy.dropna(axis=1)\n",
        "\n",
        "#normalized_df= normalize(non_na_df)\n",
        "#mean=normalized_df.mean()\n",
        "#std=normalized_df.std()\n",
        "#print(pd.DataFrame({\"mean\":mean,\"std\":std}))\n",
        "numeric_df=non_na_df"
      ]
    },
    {
      "cell_type": "code",
      "execution_count": 18,
      "metadata": {
        "colab": {
          "base_uri": "https://localhost:8080/"
        },
        "id": "lAyhAAi_woOL",
        "outputId": "f5ca435f-3c84-43a3-b255-4faa6616161a"
      },
      "outputs": [
        {
          "name": "stdout",
          "output_type": "stream",
          "text": [
            "['EcoSoilHumidity', 'SwarmFlyingFrom', 'EcoVegDensityEst', 'EcoVegetationState', 'SwarmFlyingTo']\n",
            "[]\n"
          ]
        }
      ],
      "source": [
        "#fillinf the na cols in the catagorical cols of our dataframe\n",
        "def fill_na_categorical(dframe,categorical_cols):\n",
        "  df=dframe[categorical_cols].copy()\n",
        "  for col in df.columns:\n",
        "    df[col]=df[col].fillna(col+\"_empty\") #giving the na values names which would be better classifier than na\n",
        "  return df\n",
        "#geting the na filled cols formour data frame\n",
        "old_na_counts=dframe[categorical_cols].isna().sum()\n",
        "print([col for col in old_na_counts.index if old_na_counts[col]>0])\n",
        "#itrating through the dataframe to assign the values to the na cols\n",
        "categorical_non_na=fill_na_categorical(dframe,categorical_cols)\n",
        "new_na_counts=categorical_non_na.isna().sum()\n",
        "print([col for col in old_na_counts.index if new_na_counts[col]>0])\n",
        "categorical_df=categorical_non_na"
      ]
    },
    {
      "cell_type": "code",
      "execution_count": 19,
      "metadata": {
        "id": "94hoScLnUEc0"
      },
      "outputs": [],
      "source": [
        "#mapping the row values of each cols with a specific numbe so the preprocessing is done\n",
        "categorical_non_na['EcoSoilHumidity'].value_counts()\n",
        "categorical_mappings={}\n",
        "def convert_categorical_cols(categorical_df):\n",
        "  df=categorical_df.copy()\n",
        "  for col_name in df.columns:\n",
        "    to_replace=list(set(df[col_name].to_list()))\n",
        "    categorical_mappings[col_name]=to_replace  #replacing the values with an integer value\n",
        "    df[col_name].replace(to_replace=to_replace, value=range(1,len(to_replace)+1), inplace=True)\n",
        "    if(df[col_name].dtype != 'int64'):\n",
        "      df.drop(col_name,axis=1)\n",
        "  return df\n",
        "\n",
        "converted_df=convert_categorical_cols(categorical_df)\n",
        "categorical_df=converted_df\n",
        "#list(converted_df.dtypes)\n",
        "#print(categorical_mappings['SwarmFlyingTo'])"
      ]
    },
    {
      "cell_type": "code",
      "execution_count": 20,
      "metadata": {
        "colab": {
          "base_uri": "https://localhost:8080/"
        },
        "id": "gy1hkj8Bpuj4",
        "outputId": "36ce37a2-c77c-4b3e-97eb-33fb4634774e"
      },
      "outputs": [
        {
          "name": "stdout",
          "output_type": "stream",
          "text": [
            "EcoSoilHumidity ['Dry', 'Slightly moist', 'Wet', 'Moist', 'EcoSoilHumidity_empty']\n",
            "Infestation ['Not present', 'Present']\n",
            "SwarmFlyingFrom ['W', 'E', 'SE', 'NW', 'N', 'S', 'SwarmFlyingFrom_empty', 'SW', 'NE']\n",
            "EcoVegDensityEst ['Low', 'EcoVegDensityEst_empty', 'Medium', 'Dense']\n",
            "EcoVegetationState ['Green', 'Dry', 'Greening', 'EcoVegetationState_empty', 'Drying']\n",
            "SwarmFlyingTo ['W', 'E', 'SE', 'NW', 'SwarmFlyingTo_empty', 'N', 'S', 'SW', 'NE']\n"
          ]
        }
      ],
      "source": [
        "#printing the actual values of the cols and rows and mapping integer values to them\n",
        "for key in categorical_mappings:\n",
        "  print(key,categorical_mappings[key])"
      ]
    },
    {
      "cell_type": "code",
      "execution_count": 21,
      "metadata": {
        "id": "azvBrXMgU5bS"
      },
      "outputs": [],
      "source": [
        "#concatinating the normalized version of both data types\n",
        "final_df=pd.concat([numeric_df,categorical_df],axis=1)"
      ]
    },
    {
      "cell_type": "code",
      "execution_count": 22,
      "metadata": {
        "colab": {
          "base_uri": "https://localhost:8080/"
        },
        "id": "sHAu93NljqLe",
        "outputId": "40f08bb9-8962-48c8-b46c-f8275a4bb1a0"
      },
      "outputs": [
        {
          "data": {
            "text/plain": [
              "SwarmFlyingTo          1.000000\n",
              "SwarmFlyingFrom        0.185802\n",
              "EcoLastRainEndDay      0.051609\n",
              "EcoLastRainStartDay    0.047711\n",
              "EcoVegetationState     0.007989\n",
              "Infestation            0.002621\n",
              "Latitude              -0.004041\n",
              "Longitude             -0.011434\n",
              "EcoSoilHumidity       -0.013426\n",
              "EcoVegDensityEst      -0.019381\n",
              "Name: SwarmFlyingTo, dtype: float64"
            ]
          },
          "execution_count": 22,
          "metadata": {},
          "output_type": "execute_result"
        }
      ],
      "source": [
        "#choosing the \"swarmFlying To \" col as the predictable column and checking corelation to it\n",
        "final_df.corr()['SwarmFlyingTo'].sort_values(ascending=False).iloc[:15]"
      ]
    },
    {
      "cell_type": "code",
      "execution_count": 23,
      "metadata": {
        "id": "tRwd0gI-Wz2n"
      },
      "outputs": [],
      "source": [
        "#chosing the x and y variables for our prediction\n",
        "y=final_df['SwarmFlyingTo']\n",
        "final_df=final_df.drop('SwarmFlyingTo',axis=1)\n",
        "x=final_df"
      ]
    },
    {
      "cell_type": "code",
      "execution_count": 73,
      "metadata": {
        "colab": {
          "base_uri": "https://localhost:8080/"
        },
        "id": "Ig0123M4YXHH",
        "outputId": "ab4521b9-a769-43da-a94f-1b4c7cdb2852"
      },
      "outputs": [
        {
          "data": {
            "text/plain": [
              "['DecisionTreeClassifier2.joblib']"
            ]
          },
          "execution_count": 73,
          "metadata": {},
          "output_type": "execute_result"
        }
      ],
      "source": [
        "#chosing a decision tree model for our prediction and training our model\n",
        "from sklearn.tree import DecisionTreeClassifier\n",
        "import joblib\n",
        "from sklearn.model_selection import train_test_split\n",
        "xtrain,xtest,ytrain,ytest=train_test_split(x,y,test_size=0.4)\n",
        "clf=DecisionTreeClassifier(max_depth=6,min_samples_leaf=3)\n",
        "#fitting the data on the model\n",
        "clf.fit(xtrain.values,ytrain.values)\n",
        "filename =  \"DecisionTreeClassifier2.joblib\"\n",
        "joblib.dump(clf, filename)\n"
      ]
    },
    {
      "cell_type": "code",
      "execution_count": 90,
      "metadata": {
        "colab": {
          "base_uri": "https://localhost:8080/"
        },
        "id": "-ols25RGYsAY",
        "outputId": "f8fd2cd9-34c3-472b-eb1e-e6ecec1cf6a6"
      },
      "outputs": [
        {
          "name": "stdout",
          "output_type": "stream",
          "text": [
            "0.9951681484344801\n",
            "6\n",
            "23\n",
            "[[0.         0.         0.         0.         0.         0.\n",
            "  1.         0.         0.        ]\n",
            " [0.         0.         0.66666667 0.         0.33333333 0.\n",
            "  0.         0.         0.        ]\n",
            " [0.         0.         0.         0.         0.         0.6\n",
            "  0.         0.         0.4       ]\n",
            " [0.         0.         0.4        0.         0.         0.\n",
            "  0.         0.6        0.        ]\n",
            " [0.         0.         0.         0.         0.96       0.04\n",
            "  0.         0.         0.        ]\n",
            " [0.         0.         0.4        0.         0.         0.\n",
            "  0.         0.6        0.        ]\n",
            " [0.66666667 0.         0.         0.         0.         0.33333333\n",
            "  0.         0.         0.        ]\n",
            " [0.         0.         0.         0.         0.         0.\n",
            "  0.         0.         1.        ]\n",
            " [0.         0.         0.         0.         0.         0.\n",
            "  0.         0.         1.        ]\n",
            " [0.         0.         0.         0.         0.         0.\n",
            "  1.         0.         0.        ]\n",
            " [0.66666667 0.33333333 0.         0.         0.         0.\n",
            "  0.         0.         0.        ]\n",
            " [0.         0.         0.4        0.         0.         0.\n",
            "  0.         0.6        0.        ]\n",
            " [0.         0.         1.         0.         0.         0.\n",
            "  0.         0.         0.        ]\n",
            " [0.         0.         0.4        0.         0.         0.\n",
            "  0.         0.6        0.        ]\n",
            " [0.         0.         0.4        0.         0.         0.\n",
            "  0.         0.6        0.        ]\n",
            " [0.         0.         0.         0.         0.         0.6\n",
            "  0.         0.         0.4       ]\n",
            " [0.         0.2        0.2        0.         0.         0.\n",
            "  0.2        0.         0.4       ]\n",
            " [0.         0.         0.         0.2        0.         0.\n",
            "  0.         0.         0.8       ]\n",
            " [0.         0.         0.         0.         0.         0.6\n",
            "  0.         0.         0.4       ]\n",
            " [0.         0.         0.         0.         0.         0.\n",
            "  1.         0.         0.        ]\n",
            " [0.66666667 0.         0.         0.         0.         0.33333333\n",
            "  0.         0.         0.        ]\n",
            " [0.         0.         0.4        0.         0.         0.\n",
            "  0.         0.6        0.        ]\n",
            " [0.         0.         0.5        0.         0.25       0.25\n",
            "  0.         0.         0.        ]\n",
            " [0.66666667 0.         0.         0.         0.         0.33333333\n",
            "  0.         0.         0.        ]\n",
            " [0.         0.         0.4        0.         0.         0.\n",
            "  0.         0.6        0.        ]\n",
            " [0.66666667 0.33333333 0.         0.         0.         0.\n",
            "  0.         0.         0.        ]\n",
            " [0.         0.33333333 0.         0.         0.33333333 0.\n",
            "  0.33333333 0.         0.        ]\n",
            " [0.         0.         0.4        0.         0.         0.\n",
            "  0.         0.6        0.        ]\n",
            " [0.66666667 0.33333333 0.         0.         0.         0.\n",
            "  0.         0.         0.        ]\n",
            " [0.         0.         0.         0.         0.         0.\n",
            "  0.         0.         1.        ]]\n"
          ]
        }
      ],
      "source": [
        "#checking he score of how well t trainind the data and the prediction accuracy\n",
        "print(clf.score(xtrain.values,ytrain.values))\n",
        "index=ytest!=5\n",
        "#print(clf.score(xtrain[index].values,ytrain[index].values))\n",
        "import sklearn\n",
        "print(clf.get_depth())\n",
        "print(clf.get_n_leaves())\n",
        "print(clf.predict_proba(xtest[index].values))\n",
        "#sklearn.metrics.confusion_matrix(clf.predict(xtest.values),ytest)\n",
        "#['W', 'E', 'SE', 'NW', 'SwarmFlyingTo_empty', 'N', 'S', 'SW', 'NE']"
      ]
    },
    {
      "cell_type": "code",
      "execution_count": 70,
      "metadata": {},
      "outputs": [
        {
          "data": {
            "text/plain": [
              "5    3406\n",
              "1       8\n",
              "3       8\n",
              "8       7\n",
              "2       6\n",
              "7       5\n",
              "6       4\n",
              "9       4\n",
              "4       2\n",
              "Name: SwarmFlyingTo, dtype: int64"
            ]
          },
          "execution_count": 70,
          "metadata": {},
          "output_type": "execute_result"
        }
      ],
      "source": [
        "ytest.value_counts()/ytest.uniqure()"
      ]
    },
    {
      "cell_type": "code",
      "execution_count": 29,
      "metadata": {
        "colab": {
          "base_uri": "https://localhost:8080/",
          "height": 91
        },
        "id": "pHDIWJMohsOn",
        "outputId": "776052bc-30e7-495f-eb62-a013989b2cf2"
      },
      "outputs": [
        {
          "name": "stdout",
          "output_type": "stream",
          "text": [
            "[5]\n",
            "SwarmFlyingTo_empty\n"
          ]
        },
        {
          "data": {
            "text/plain": [
              "'SwarmFlyingTo_empty'"
            ]
          },
          "execution_count": 29,
          "metadata": {},
          "output_type": "execute_result"
        }
      ],
      "source": [
        "#testing the raw data inputed from the user (raw based operation)\n",
        "def predict():\n",
        "    x=xtest.iloc[213,:]\n",
        "    y=clf.predict([x])\n",
        "    #prinitig the result and mapping it back to the column value when inputed\n",
        "    print(y)\n",
        "    result = categorical_mappings['SwarmFlyingTo'][y[0]-1]\n",
        "    print(result)\n",
        "    return result\n",
        "predict()"
      ]
    },
    {
      "cell_type": "code",
      "execution_count": 15,
      "metadata": {
        "id": "_-dia2P3i9LI"
      },
      "outputs": [
        {
          "ename": "ValueError",
          "evalue": "Must pass 2-d input. shape=()",
          "output_type": "error",
          "traceback": [
            "\u001b[1;31m---------------------------------------------------------------------------\u001b[0m",
            "\u001b[1;31mValueError\u001b[0m                                Traceback (most recent call last)",
            "Cell \u001b[1;32mIn[15], line 19\u001b[0m\n\u001b[0;32m     12\u001b[0m   sns\u001b[38;5;241m.\u001b[39mset(font_scale\u001b[38;5;241m=\u001b[39m\u001b[38;5;241m1.5\u001b[39m)\n\u001b[0;32m     14\u001b[0m   sns\u001b[38;5;241m.\u001b[39mheatmap(clf,\n\u001b[0;32m     15\u001b[0m             cmap\u001b[38;5;241m=\u001b[39m\u001b[38;5;124m'\u001b[39m\u001b[38;5;124mcoolwarm\u001b[39m\u001b[38;5;124m'\u001b[39m,\n\u001b[0;32m     16\u001b[0m             annot\u001b[38;5;241m=\u001b[39m\u001b[38;5;28;01mTrue\u001b[39;00m,\n\u001b[0;32m     17\u001b[0m             fmt\u001b[38;5;241m=\u001b[39m\u001b[38;5;124m'\u001b[39m\u001b[38;5;124m.5g\u001b[39m\u001b[38;5;124m'\u001b[39m,\n\u001b[0;32m     18\u001b[0m             vmax\u001b[38;5;241m=\u001b[39m\u001b[38;5;241m200\u001b[39m)\n\u001b[1;32m---> 19\u001b[0m \u001b[43mheatmap\u001b[49m\u001b[43m(\u001b[49m\u001b[43mclf\u001b[49m\u001b[43m)\u001b[49m\n",
            "Cell \u001b[1;32mIn[15], line 14\u001b[0m, in \u001b[0;36mheatmap\u001b[1;34m(clf)\u001b[0m\n\u001b[0;32m     11\u001b[0m \u001b[38;5;28;01mdef\u001b[39;00m \u001b[38;5;21mheatmap\u001b[39m(clf):\n\u001b[0;32m     12\u001b[0m   sns\u001b[38;5;241m.\u001b[39mset(font_scale\u001b[38;5;241m=\u001b[39m\u001b[38;5;241m1.5\u001b[39m)\n\u001b[1;32m---> 14\u001b[0m   \u001b[43msns\u001b[49m\u001b[38;5;241;43m.\u001b[39;49m\u001b[43mheatmap\u001b[49m\u001b[43m(\u001b[49m\u001b[43mclf\u001b[49m\u001b[43m,\u001b[49m\n\u001b[0;32m     15\u001b[0m \u001b[43m            \u001b[49m\u001b[43mcmap\u001b[49m\u001b[38;5;241;43m=\u001b[39;49m\u001b[38;5;124;43m'\u001b[39;49m\u001b[38;5;124;43mcoolwarm\u001b[39;49m\u001b[38;5;124;43m'\u001b[39;49m\u001b[43m,\u001b[49m\n\u001b[0;32m     16\u001b[0m \u001b[43m            \u001b[49m\u001b[43mannot\u001b[49m\u001b[38;5;241;43m=\u001b[39;49m\u001b[38;5;28;43;01mTrue\u001b[39;49;00m\u001b[43m,\u001b[49m\n\u001b[0;32m     17\u001b[0m \u001b[43m            \u001b[49m\u001b[43mfmt\u001b[49m\u001b[38;5;241;43m=\u001b[39;49m\u001b[38;5;124;43m'\u001b[39;49m\u001b[38;5;124;43m.5g\u001b[39;49m\u001b[38;5;124;43m'\u001b[39;49m\u001b[43m,\u001b[49m\n\u001b[0;32m     18\u001b[0m \u001b[43m            \u001b[49m\u001b[43mvmax\u001b[49m\u001b[38;5;241;43m=\u001b[39;49m\u001b[38;5;241;43m200\u001b[39;49m\u001b[43m)\u001b[49m\n",
            "File \u001b[1;32mc:\\Python310\\lib\\site-packages\\seaborn\\matrix.py:446\u001b[0m, in \u001b[0;36mheatmap\u001b[1;34m(data, vmin, vmax, cmap, center, robust, annot, fmt, annot_kws, linewidths, linecolor, cbar, cbar_kws, cbar_ax, square, xticklabels, yticklabels, mask, ax, **kwargs)\u001b[0m\n\u001b[0;32m    365\u001b[0m \u001b[39m\"\"\"Plot rectangular data as a color-encoded matrix.\u001b[39;00m\n\u001b[0;32m    366\u001b[0m \n\u001b[0;32m    367\u001b[0m \u001b[39mThis is an Axes-level function and will draw the heatmap into the\u001b[39;00m\n\u001b[1;32m   (...)\u001b[0m\n\u001b[0;32m    443\u001b[0m \n\u001b[0;32m    444\u001b[0m \u001b[39m\"\"\"\u001b[39;00m\n\u001b[0;32m    445\u001b[0m \u001b[39m# Initialize the plotter object\u001b[39;00m\n\u001b[1;32m--> 446\u001b[0m plotter \u001b[39m=\u001b[39m _HeatMapper(data, vmin, vmax, cmap, center, robust, annot, fmt,\n\u001b[0;32m    447\u001b[0m                       annot_kws, cbar, cbar_kws, xticklabels,\n\u001b[0;32m    448\u001b[0m                       yticklabels, mask)\n\u001b[0;32m    450\u001b[0m \u001b[39m# Add the pcolormesh kwargs here\u001b[39;00m\n\u001b[0;32m    451\u001b[0m kwargs[\u001b[39m\"\u001b[39m\u001b[39mlinewidths\u001b[39m\u001b[39m\"\u001b[39m] \u001b[39m=\u001b[39m linewidths\n",
            "File \u001b[1;32mc:\\Python310\\lib\\site-packages\\seaborn\\matrix.py:110\u001b[0m, in \u001b[0;36m_HeatMapper.__init__\u001b[1;34m(self, data, vmin, vmax, cmap, center, robust, annot, fmt, annot_kws, cbar, cbar_kws, xticklabels, yticklabels, mask)\u001b[0m\n\u001b[0;32m    108\u001b[0m \u001b[39melse\u001b[39;00m:\n\u001b[0;32m    109\u001b[0m     plot_data \u001b[39m=\u001b[39m np\u001b[39m.\u001b[39masarray(data)\n\u001b[1;32m--> 110\u001b[0m     data \u001b[39m=\u001b[39m pd\u001b[39m.\u001b[39;49mDataFrame(plot_data)\n\u001b[0;32m    112\u001b[0m \u001b[39m# Validate the mask and convert to DataFrame\u001b[39;00m\n\u001b[0;32m    113\u001b[0m mask \u001b[39m=\u001b[39m _matrix_mask(data, mask)\n",
            "File \u001b[1;32mc:\\Python310\\lib\\site-packages\\pandas\\core\\frame.py:721\u001b[0m, in \u001b[0;36mDataFrame.__init__\u001b[1;34m(self, data, index, columns, dtype, copy)\u001b[0m\n\u001b[0;32m    711\u001b[0m         mgr \u001b[39m=\u001b[39m dict_to_mgr(\n\u001b[0;32m    712\u001b[0m             \u001b[39m# error: Item \"ndarray\" of \"Union[ndarray, Series, Index]\" has no\u001b[39;00m\n\u001b[0;32m    713\u001b[0m             \u001b[39m# attribute \"name\"\u001b[39;00m\n\u001b[1;32m   (...)\u001b[0m\n\u001b[0;32m    718\u001b[0m             typ\u001b[39m=\u001b[39mmanager,\n\u001b[0;32m    719\u001b[0m         )\n\u001b[0;32m    720\u001b[0m     \u001b[39melse\u001b[39;00m:\n\u001b[1;32m--> 721\u001b[0m         mgr \u001b[39m=\u001b[39m ndarray_to_mgr(\n\u001b[0;32m    722\u001b[0m             data,\n\u001b[0;32m    723\u001b[0m             index,\n\u001b[0;32m    724\u001b[0m             columns,\n\u001b[0;32m    725\u001b[0m             dtype\u001b[39m=\u001b[39;49mdtype,\n\u001b[0;32m    726\u001b[0m             copy\u001b[39m=\u001b[39;49mcopy,\n\u001b[0;32m    727\u001b[0m             typ\u001b[39m=\u001b[39;49mmanager,\n\u001b[0;32m    728\u001b[0m         )\n\u001b[0;32m    730\u001b[0m \u001b[39m# For data is list-like, or Iterable (will consume into list)\u001b[39;00m\n\u001b[0;32m    731\u001b[0m \u001b[39melif\u001b[39;00m is_list_like(data):\n",
            "File \u001b[1;32mc:\\Python310\\lib\\site-packages\\pandas\\core\\internals\\construction.py:329\u001b[0m, in \u001b[0;36mndarray_to_mgr\u001b[1;34m(values, index, columns, dtype, copy, typ)\u001b[0m\n\u001b[0;32m    324\u001b[0m         values \u001b[39m=\u001b[39m values\u001b[39m.\u001b[39mreshape(\u001b[39m-\u001b[39m\u001b[39m1\u001b[39m, \u001b[39m1\u001b[39m)\n\u001b[0;32m    326\u001b[0m \u001b[39melse\u001b[39;00m:\n\u001b[0;32m    327\u001b[0m     \u001b[39m# by definition an array here\u001b[39;00m\n\u001b[0;32m    328\u001b[0m     \u001b[39m# the dtypes will be coerced to a single dtype\u001b[39;00m\n\u001b[1;32m--> 329\u001b[0m     values \u001b[39m=\u001b[39m _prep_ndarraylike(values, copy\u001b[39m=\u001b[39;49mcopy_on_sanitize)\n\u001b[0;32m    331\u001b[0m \u001b[39mif\u001b[39;00m dtype \u001b[39mis\u001b[39;00m \u001b[39mnot\u001b[39;00m \u001b[39mNone\u001b[39;00m \u001b[39mand\u001b[39;00m \u001b[39mnot\u001b[39;00m is_dtype_equal(values\u001b[39m.\u001b[39mdtype, dtype):\n\u001b[0;32m    332\u001b[0m     \u001b[39m# GH#40110 see similar check inside sanitize_array\u001b[39;00m\n\u001b[0;32m    333\u001b[0m     rcf \u001b[39m=\u001b[39m \u001b[39mnot\u001b[39;00m (is_integer_dtype(dtype) \u001b[39mand\u001b[39;00m values\u001b[39m.\u001b[39mdtype\u001b[39m.\u001b[39mkind \u001b[39m==\u001b[39m \u001b[39m\"\u001b[39m\u001b[39mf\u001b[39m\u001b[39m\"\u001b[39m)\n",
            "File \u001b[1;32mc:\\Python310\\lib\\site-packages\\pandas\\core\\internals\\construction.py:583\u001b[0m, in \u001b[0;36m_prep_ndarraylike\u001b[1;34m(values, copy)\u001b[0m\n\u001b[0;32m    581\u001b[0m     values \u001b[39m=\u001b[39m values\u001b[39m.\u001b[39mreshape((values\u001b[39m.\u001b[39mshape[\u001b[39m0\u001b[39m], \u001b[39m1\u001b[39m))\n\u001b[0;32m    582\u001b[0m \u001b[39melif\u001b[39;00m values\u001b[39m.\u001b[39mndim \u001b[39m!=\u001b[39m \u001b[39m2\u001b[39m:\n\u001b[1;32m--> 583\u001b[0m     \u001b[39mraise\u001b[39;00m \u001b[39mValueError\u001b[39;00m(\u001b[39mf\u001b[39m\u001b[39m\"\u001b[39m\u001b[39mMust pass 2-d input. shape=\u001b[39m\u001b[39m{\u001b[39;00mvalues\u001b[39m.\u001b[39mshape\u001b[39m}\u001b[39;00m\u001b[39m\"\u001b[39m)\n\u001b[0;32m    585\u001b[0m \u001b[39mreturn\u001b[39;00m values\n",
            "\u001b[1;31mValueError\u001b[0m: Must pass 2-d input. shape=()"
          ]
        }
      ],
      "source": [
        "from sklearn import tree\n",
        "# import matplotlib.pyplot as plt\n",
        "import pandas as pd\n",
        "import numpy as np\n",
        "\n",
        "import matplotlib.pyplot as plt\n",
        "import seaborn as sns\n",
        "\n",
        "from datetime import datetime\n",
        "\n",
        "def heatmap(clf):\n",
        "  sns.set(font_scale=1.5)\n",
        "\n",
        "  sns.heatmap(clf,\n",
        "            cmap='coolwarm',\n",
        "            annot=True,\n",
        "            fmt='.5g',\n",
        "            vmax=200)\n",
        "heatmap(clf)"
      ]
    },
    {
      "cell_type": "code",
      "execution_count": 117,
      "metadata": {
        "colab": {
          "base_uri": "https://localhost:8080/"
        },
        "id": "l3jOnVEAoCD2",
        "outputId": "88865b29-23b8-40d7-a827-f77f4bd0d14f"
      },
      "outputs": [
        {
          "data": {
            "text/plain": [
              "array(['ID', 'Day', 'Year', 'Latitude degrees', 'Latitude minutes',\n",
              "       'Latitude seconds', 'Latitude', 'Longitude degrees',\n",
              "       'Longitude minutes', 'Longitude seconds', 'Longitude',\n",
              "       'EcoAreaSurveyed', 'EcoLastRainStartDay', 'EcoLastRainEndDay',\n",
              "       'EcoLastRainYear', 'EcoLastRainAmount', 'EcoDepthDrySoil',\n",
              "       'EcoDepthWetSoil', 'LocustsAreaInfested', 'BandDensityMin',\n",
              "       'BandDensityMax', 'BandSizeMin', 'BandSizeMax', 'BandsNo',\n",
              "       'TransectL', 'TransectW', 'AdDensityComputed', 'SwarmDensityMin',\n",
              "       'SwarmDensityMax', 'SwarmSizeMin', 'SwarmSizeMax',\n",
              "       'ControlAppRate', 'ControlQuantity', 'ControlAreaTreated',\n",
              "       'ControlEst%Kill', 'AdBreedingSol', 'HopAppS', 'HopGregF',\n",
              "       'SwarmSizeLarge', 'HopTransH', 'EcoSoilHumidity', 'BandH',\n",
              "       'EcoVegIndicator', 'EcoIndicator', 'HopSolH', 'AdMatSolMature',\n",
              "       'AdNosEstTrans', 'BandF', 'BandSizeVSmall', 'AdScattered',\n",
              "       'SwarmBreeding', 'SwarmMatUnknown', 'Observer name',\n",
              "       'ControlAreaTreatedUnits', 'Month', 'HopGregH', 'HopGreg1',\n",
              "       'BandSizeLarge', 'SwarmDensityUnits', 'SwarmSizeVSmall', 'HopSol6',\n",
              "       'SwarmIndicator', 'HopTrans4', 'SwarmMat', 'BandU',\n",
              "       'AdBreedingGreg', 'BandDensityMedium', 'EcoLastRainMonth',\n",
              "       'AppMethodAir', 'AdBreedingTrans', 'HopGroups', 'HopTrans1',\n",
              "       'SwarmMaturing', 'LocustsAreaInfestedUnits', 'LocustsReliabilty',\n",
              "       'Country', 'Band5', 'Infestation', 'LocustsConfirm', 'AdMatGregF',\n",
              "       'HopGreg3', 'AppMethodMechanic', 'HopColourGreen', 'HopGreg5',\n",
              "       'Locust', 'HopTrans3', 'AdMatTransImmature', 'HopSol4',\n",
              "       'SwColourRed', 'AppMethodHandheld', 'AdMatTransUnknown',\n",
              "       'HopScattered', 'ControlAppRateUnits', 'SwarmFlyingTo', 'HopGregU',\n",
              "       'HopSolF', 'AdAppUnknown', 'EcoSoilsIndicator', 'HopSolNoEst',\n",
              "       'EcoLastRainApprox', 'AdMatSolF', 'SwarmFlyingFrom', 'AdGroups',\n",
              "       'HopSol3', 'SwarmDensityDense', 'BandColourGreen',\n",
              "       'AdDensityUnits', 'SwarmFlyingHeight', 'HopGreg4', 'BandSizeSmall',\n",
              "       'AdMatSolMaturing', 'HopTransNoEst', 'SwColourYellow',\n",
              "       'HopColourYellowBlack', 'EcoVegDensityEst', 'AdMatGregMaturing',\n",
              "       'SwarmDensityMedium', 'SwarmSizeSmall', 'AdAppGreg', 'AdAppSol',\n",
              "       'HopSol2', 'AdIsolated', 'HopColourGreenYellow', 'HopTransNoUnits',\n",
              "       'BandColourYellowBlack', 'HopColourBlack', 'AdMatGregMature',\n",
              "       'BandDensityLow', 'HopTransU', 'BandSizeMedium', 'BandColourBlack',\n",
              "       'Hemisphere longitude', 'HopColourGreenBlack', 'BandDensityUnits',\n",
              "       'AdMatTransF', 'AdNosEstSol', 'SwarmDensityLow',\n",
              "       'ControlQuantityUnits', 'HopTransF', 'AdMatTransMature',\n",
              "       'Hemisphere latitude', 'BandDensityDense', 'AdColourRed', 'Band1',\n",
              "       'Location', 'AppMethodUnknown', 'Band4', 'EcoVegetationState',\n",
              "       'HopAppT', 'HopAppG', 'AdAppTrans', 'HopSolNoUnits',\n",
              "       'HopGregNoEst', 'BandSizeUnits', 'AdMatGregImmature', 'HopGreg2',\n",
              "       'MonthPart', 'SwarmSizeUnits', 'EcoLastRainMonthPart',\n",
              "       'SwarmSizeVLarge', 'SwarmImmat', 'HopAppU', 'AdNosEstGreg',\n",
              "       'HopTrans5', 'Time', 'ControlIndicator', 'AdMatSolImmature',\n",
              "       'AdColourGrey', 'BandIndicator', 'HopSol5',\n",
              "       'SwarmFlyingTimeToPass', 'HopGregNoUnits', 'AppMethodVehicle',\n",
              "       'HopSolU', 'AdColourBrown', 'HopSol1', 'AdColourYellowWings',\n",
              "       'HopIsolated', 'AdMatSolUnknown', 'HopTrans2', 'EcoMeteoIndicator',\n",
              "       'EcoHabitat', 'Band2', 'Band3', 'Comments', 'AdColourYellow',\n",
              "       'AdMatGregUnknown', 'EcoLastRainEst', 'BandSizeVLarge',\n",
              "       'EcoAreaSurveyedUnits', 'SwarmSizeMedium', 'ControlPesticide',\n",
              "       'AdMatTransMaturing'], dtype=object)"
            ]
          },
          "execution_count": 117,
          "metadata": {},
          "output_type": "execute_result"
        }
      ],
      "source": [
        "clf.feature_names_in_"
      ]
    },
    {
      "cell_type": "code",
      "execution_count": 124,
      "metadata": {
        "colab": {
          "base_uri": "https://localhost:8080/"
        },
        "id": "v_zTweb7lY_B",
        "outputId": "bdde8e0c-9b3a-420c-dc55-8cf14ecf2f22"
      },
      "outputs": [
        {
          "name": "stdout",
          "output_type": "stream",
          "text": [
            "|--- SwarmFlyingFrom <= 4.50\n",
            "|   |--- SwarmFlyingFrom <= 3.50\n",
            "|   |   |--- SwarmFlyingFrom <= 1.50\n",
            "|   |   |   |--- SwarmSizeMin <= 12.50\n",
            "|   |   |   |   |--- class: 2\n",
            "|   |   |   |--- SwarmSizeMin >  12.50\n",
            "|   |   |   |   |--- class: 7\n",
            "|   |   |--- SwarmFlyingFrom >  1.50\n",
            "|   |   |   |--- Latitude minutes <= 8.00\n",
            "|   |   |   |   |--- class: 1\n",
            "|   |   |   |--- Latitude minutes >  8.00\n",
            "|   |   |   |   |--- Day <= 26.00\n",
            "|   |   |   |   |   |--- Latitude seconds <= 29.00\n",
            "|   |   |   |   |   |   |--- Latitude <= 11.65\n",
            "|   |   |   |   |   |   |   |--- class: 7\n",
            "|   |   |   |   |   |   |--- Latitude >  11.65\n",
            "|   |   |   |   |   |   |   |--- class: 2\n",
            "|   |   |   |   |   |--- Latitude seconds >  29.00\n",
            "|   |   |   |   |   |   |--- SwarmDensityLow <= 1.50\n",
            "|   |   |   |   |   |   |   |--- class: 3\n",
            "|   |   |   |   |   |   |--- SwarmDensityLow >  1.50\n",
            "|   |   |   |   |   |   |   |--- class: 8\n",
            "|   |   |   |   |--- Day >  26.00\n",
            "|   |   |   |   |   |--- class: 5\n",
            "|   |--- SwarmFlyingFrom >  3.50\n",
            "|   |   |--- SwarmSizeMax <= 235.00\n",
            "|   |   |   |--- SwarmSizeMin <= 125.00\n",
            "|   |   |   |   |--- Year <= 2020.50\n",
            "|   |   |   |   |   |--- class: 5\n",
            "|   |   |   |   |--- Year >  2020.50\n",
            "|   |   |   |   |   |--- class: 8\n",
            "|   |   |   |--- SwarmSizeMin >  125.00\n",
            "|   |   |   |   |--- class: 5\n",
            "|   |   |--- SwarmSizeMax >  235.00\n",
            "|   |   |   |--- SwarmSizeMin <= 275.00\n",
            "|   |   |   |   |--- class: 6\n",
            "|   |   |   |--- SwarmSizeMin >  275.00\n",
            "|   |   |   |   |--- class: 5\n",
            "|--- SwarmFlyingFrom >  4.50\n",
            "|   |--- SwarmSizeMin <= 130.60\n",
            "|   |   |--- SwarmFlyingFrom <= 6.50\n",
            "|   |   |   |--- Day <= 7.50\n",
            "|   |   |   |   |--- SwarmSizeMin <= 41.00\n",
            "|   |   |   |   |   |--- class: 7\n",
            "|   |   |   |   |--- SwarmSizeMin >  41.00\n",
            "|   |   |   |   |   |--- class: 9\n",
            "|   |   |   |--- Day >  7.50\n",
            "|   |   |   |   |--- EcoLastRainStartDay <= 15.50\n",
            "|   |   |   |   |   |--- EcoVegDensityEst <= 3.50\n",
            "|   |   |   |   |   |   |--- class: 5\n",
            "|   |   |   |   |   |--- EcoVegDensityEst >  3.50\n",
            "|   |   |   |   |   |   |--- Longitude minutes <= 21.50\n",
            "|   |   |   |   |   |   |   |--- class: 2\n",
            "|   |   |   |   |   |   |--- Longitude minutes >  21.50\n",
            "|   |   |   |   |   |   |   |--- class: 9\n",
            "|   |   |   |   |--- EcoLastRainStartDay >  15.50\n",
            "|   |   |   |   |   |--- EcoLastRainEndDay <= 25.00\n",
            "|   |   |   |   |   |   |--- class: 8\n",
            "|   |   |   |   |   |--- EcoLastRainEndDay >  25.00\n",
            "|   |   |   |   |   |   |--- class: 6\n",
            "|   |   |--- SwarmFlyingFrom >  6.50\n",
            "|   |   |   |--- Latitude <= 11.59\n",
            "|   |   |   |   |--- Latitude seconds <= 14.00\n",
            "|   |   |   |   |   |--- EcoVegDensityEst <= 3.00\n",
            "|   |   |   |   |   |   |--- class: 7\n",
            "|   |   |   |   |   |--- EcoVegDensityEst >  3.00\n",
            "|   |   |   |   |   |   |--- class: 3\n",
            "|   |   |   |   |--- Latitude seconds >  14.00\n",
            "|   |   |   |   |   |--- Month <= 2.50\n",
            "|   |   |   |   |   |   |--- Latitude <= 6.88\n",
            "|   |   |   |   |   |   |   |--- class: 1\n",
            "|   |   |   |   |   |   |--- Latitude >  6.88\n",
            "|   |   |   |   |   |   |   |--- class: 5\n",
            "|   |   |   |   |   |--- Month >  2.50\n",
            "|   |   |   |   |   |   |--- class: 4\n",
            "|   |   |   |--- Latitude >  11.59\n",
            "|   |   |   |   |--- Longitude seconds <= 54.50\n",
            "|   |   |   |   |   |--- class: 6\n",
            "|   |   |   |   |--- Longitude seconds >  54.50\n",
            "|   |   |   |   |   |--- class: 3\n",
            "|   |--- SwarmSizeMin >  130.60\n",
            "|   |   |--- Observer name <= 1251.00\n",
            "|   |   |   |--- class: 1\n",
            "|   |   |--- Observer name >  1251.00\n",
            "|   |   |   |--- Latitude degrees <= 7.50\n",
            "|   |   |   |   |--- class: 3\n",
            "|   |   |   |--- Latitude degrees >  7.50\n",
            "|   |   |   |   |--- class: 7\n",
            "\n"
          ]
        }
      ],
      "source": [
        "text_representation = tree.export_text(clf,feature_names=clf.feature_names_in_.tolist())\n",
        "print(text_representation)"
      ]
    },
    {
      "cell_type": "code",
      "execution_count": null,
      "metadata": {
        "id": "L89PgqAdnXZT"
      },
      "outputs": [],
      "source": []
    }
  ],
  "metadata": {
    "colab": {
      "provenance": []
    },
    "kernelspec": {
      "display_name": "Python 3.10.6 64-bit",
      "language": "python",
      "name": "python3"
    },
    "language_info": {
      "codemirror_mode": {
        "name": "ipython",
        "version": 3
      },
      "file_extension": ".py",
      "mimetype": "text/x-python",
      "name": "python",
      "nbconvert_exporter": "python",
      "pygments_lexer": "ipython3",
      "version": "3.10.6"
    },
    "vscode": {
      "interpreter": {
        "hash": "369f2c481f4da34e4445cda3fffd2e751bd1c4d706f27375911949ba6bb62e1c"
      }
    }
  },
  "nbformat": 4,
  "nbformat_minor": 0
}
